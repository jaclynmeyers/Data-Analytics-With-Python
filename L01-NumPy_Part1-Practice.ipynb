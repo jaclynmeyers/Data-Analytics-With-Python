{
 "cells": [
  {
   "cell_type": "markdown",
   "metadata": {},
   "source": [
    "# Lesson 1 Practice: NumPy Part 1\n",
    "Use this notebook to follow along with the lesson in the corresponding lesson notebook: [L01-Numpy_Part1-Lesson.ipynb](./L01-Numpy_Part1-Lesson.ipynb).  \n",
    "\n"
   ]
  },
  {
   "cell_type": "markdown",
   "metadata": {},
   "source": [
    "## Instructions\n",
    "Follow along with the teaching material in the lesson. Throughout the tutorial sections labeled as \"Tasks\" are interspersed and indicated with the icon: ![Task](http://icons.iconarchive.com/icons/sbstnblnd/plateau/16/Apps-gnome-info-icon.png). You should follow the instructions provided in these sections by performing them in the practice notebook.  When the tutorial is completed you can turn in the final practice notebook. For each task, use the cell below it to write and test your code.  You may add additional cells for any task as needed or desired.  "
   ]
  },
  {
   "cell_type": "markdown",
   "metadata": {},
   "source": [
    "## Task 1a: Setup\n",
    "\n",
    "In the practice notebook, import the following packages:\n",
    "+ `numpy` as `np`"
   ]
  },
  {
   "cell_type": "code",
   "execution_count": 1,
   "metadata": {},
   "outputs": [],
   "source": [
    "import numpy as np"
   ]
  },
  {
   "cell_type": "markdown",
   "metadata": {},
   "source": [
    "## Task 2a: Creating Arrays\n",
    "\n",
    "In the practice notebook, perform the following.  \n",
    "- Create a 1-dimensional numpy array and print it.\n",
    "- Create a 2-dimensional numpy array and print it.\n",
    "- Create a 3-dimensional numpy array and print it."
   ]
  },
  {
   "cell_type": "code",
   "execution_count": 6,
   "metadata": {},
   "outputs": [
    {
     "name": "stdout",
     "output_type": "stream",
     "text": [
      "my_array\n",
      "my_2d_array\n",
      "my_3d_array\n"
     ]
    }
   ],
   "source": [
    "my_arrary= np.array([1,2,3,4])\n",
    "my_2d_array = np.array([[1,2,3,4], [5,6,7,8]])\n",
    "my_3d_array = np.array([[[1,2,3,4], [5,6,7,8]], [[1,2,3,4], [9,10,11,12]]])\n",
    "\n",
    "print(f'my_array')\n",
    "print(f'my_2d_array')\n",
    "print(f'my_3d_array')\n",
    "\n"
   ]
  },
  {
   "cell_type": "markdown",
   "metadata": {},
   "source": [
    "## Task 3a: Accessing Array Attributes\n",
    "\n",
    "In the practice notebook, perform the following.\n",
    "\n",
    "- Create a NumPy array.\n",
    "- Write code that prints these attributes (one per line): `ndim`, `shape`, `size`, `dtype`, `itemsize`, `data`, `nbytes`.\n",
    "- Add a comment line, before each line describing what value the attribute returns. \n"
   ]
  },
  {
   "cell_type": "code",
   "execution_count": 11,
   "metadata": {},
   "outputs": [
    {
     "name": "stdout",
     "output_type": "stream",
     "text": [
      "1\n",
      "(4,)\n",
      "4\n",
      "int64\n",
      "<built-in method item of numpy.ndarray object at 0x7fd9d54ec800>\n",
      "<memory at 0x7fd9d500d940>\n"
     ]
    }
   ],
   "source": [
    "new_array = np.array([2,5,4,6])\n",
    "print(new_array.ndim)\n",
    "\n",
    "# this prints the shape of the array\n",
    "print(new_array.shape)\n",
    "\n",
    "#this prints the size of the array\n",
    "print(new_array.size)\n",
    "\n",
    "#this prints the dimension type\n",
    "print(new_array.dtype)\n",
    "\n",
    "# this prints the size of the item\n",
    "print(new_array.item)\n",
    "\n",
    "#this prints the data for the items\n",
    "print(new_array.data)\n",
    "\n",
    "#this prints the number of bytes\n",
    "#print(new_array.bytes)\n",
    "# it says that there are no bytes in this array"
   ]
  },
  {
   "cell_type": "markdown",
   "metadata": {},
   "source": [
    "## Task 4a: Initializing Arrays\n",
    "\n",
    "In the practice notebook, perform the following.\n",
    "\n",
    "+ Create an initialized array by using these functions:  `ones`, `zeros`, `empty`, `full`, `arange`, `linspace` and `random.random`. Be sure to follow each array creation with a call to `print()` to display your newly created arrays. \n",
    "+ Add a comment above each function call describing what is being done.  "
   ]
  },
  {
   "cell_type": "code",
   "execution_count": 26,
   "metadata": {},
   "outputs": [
    {
     "name": "stdout",
     "output_type": "stream",
     "text": [
      "[[0. 0. 0.]\n",
      " [0. 0. 0.]]\n",
      "<built-in function arange>\n",
      "[1.]\n",
      "[3. 2. 1.]\n",
      "[5 5]\n",
      "[3.         3.12244898 3.24489796 3.36734694 3.48979592 3.6122449\n",
      " 3.73469388 3.85714286 3.97959184 4.10204082 4.2244898  4.34693878\n",
      " 4.46938776 4.59183673 4.71428571 4.83673469 4.95918367 5.08163265\n",
      " 5.20408163 5.32653061 5.44897959 5.57142857 5.69387755 5.81632653\n",
      " 5.93877551 6.06122449 6.18367347 6.30612245 6.42857143 6.55102041\n",
      " 6.67346939 6.79591837 6.91836735 7.04081633 7.16326531 7.28571429\n",
      " 7.40816327 7.53061224 7.65306122 7.7755102  7.89795918 8.02040816\n",
      " 8.14285714 8.26530612 8.3877551  8.51020408 8.63265306 8.75510204\n",
      " 8.87755102 9.        ]\n"
     ]
    },
    {
     "data": {
      "text/plain": [
       "<function RandomState.random>"
      ]
     },
     "execution_count": 26,
     "metadata": {},
     "output_type": "execute_result"
    }
   ],
   "source": [
    "# creates a 2x3 array full of zeros\n",
    "zeros = np.zeros((2, 3))\n",
    "print(zeros)\n",
    "# creates an array 1 variable deep with values between 5 - 9\n",
    "np.arange(5, 9)\n",
    "print(np.arange)\n",
    "# gives an array  1x2filled with 1s \n",
    "ones = np.ones(1)\n",
    "print(ones)\n",
    "#creates an array of 3x4 without initializing values\n",
    "empty=np.empty(3)\n",
    "print(empty)\n",
    "# this creates an array filled with values in a 2x5 shape\n",
    "full=np.full(2,5)\n",
    "print(full)\n",
    "# returns an array that is evenly spaced between 3 and 9\n",
    "lin =np.linspace(3,9)\n",
    "print (lin)\n",
    "#returns random values betwen 0-1\n",
    "np.random.random"
   ]
  },
  {
   "cell_type": "markdown",
   "metadata": {},
   "source": [
    "## Task 5a:  Broadcasting Arrays\n",
    "\n",
    "In the practice notebook, perform the following.\n",
    "\n",
    "+ Create two arrays of differing sizes but compatible with broadcasting.\n",
    "+ Perform addition, multiplication and subtraction.\n",
    "+ Create two additional arrays of differing size that do not meet the rules for broadcasting and try a mathematical operation.  "
   ]
  },
  {
   "cell_type": "code",
   "execution_count": 29,
   "metadata": {},
   "outputs": [
    {
     "name": "stdout",
     "output_type": "stream",
     "text": [
      "demo_e shape: (2, 3)\n",
      "demo_f shape: (5, 1, 3)\n",
      "[[1. 1. 1.]\n",
      " [1. 1. 1.]]\n",
      "[[[0.69924147 0.279241   0.79747854]]\n",
      "\n",
      " [[0.9078343  0.46647604 0.7731373 ]]\n",
      "\n",
      " [[0.68548156 0.47793999 0.73025913]]\n",
      "\n",
      " [[0.47658909 0.21319463 0.67836696]]\n",
      "\n",
      " [[0.46658418 0.0831734  0.19244641]]]\n",
      "[[[1.69924147 1.279241   1.79747854]\n",
      "  [1.69924147 1.279241   1.79747854]]\n",
      "\n",
      " [[1.9078343  1.46647604 1.7731373 ]\n",
      "  [1.9078343  1.46647604 1.7731373 ]]\n",
      "\n",
      " [[1.68548156 1.47793999 1.73025913]\n",
      "  [1.68548156 1.47793999 1.73025913]]\n",
      "\n",
      " [[1.47658909 1.21319463 1.67836696]\n",
      "  [1.47658909 1.21319463 1.67836696]]\n",
      "\n",
      " [[1.46658418 1.0831734  1.19244641]\n",
      "  [1.46658418 1.0831734  1.19244641]]]\n",
      "[[[0.69924147 0.279241   0.79747854]\n",
      "  [0.69924147 0.279241   0.79747854]]\n",
      "\n",
      " [[0.9078343  0.46647604 0.7731373 ]\n",
      "  [0.9078343  0.46647604 0.7731373 ]]\n",
      "\n",
      " [[0.68548156 0.47793999 0.73025913]\n",
      "  [0.68548156 0.47793999 0.73025913]]\n",
      "\n",
      " [[0.47658909 0.21319463 0.67836696]\n",
      "  [0.47658909 0.21319463 0.67836696]]\n",
      "\n",
      " [[0.46658418 0.0831734  0.19244641]\n",
      "  [0.46658418 0.0831734  0.19244641]]]\n",
      "[[[ 1.43012114  3.58113602  1.25395224]\n",
      "  [ 1.43012114  3.58113602  1.25395224]]\n",
      "\n",
      " [[ 1.1015226   2.14373282  1.29343133]\n",
      "  [ 1.1015226   2.14373282  1.29343133]]\n",
      "\n",
      " [[ 1.45882845  2.09231287  1.36937692]\n",
      "  [ 1.45882845  2.09231287  1.36937692]]\n",
      "\n",
      " [[ 2.0982436   4.69054967  1.4741284 ]\n",
      "  [ 2.0982436   4.69054967  1.4741284 ]]\n",
      "\n",
      " [[ 2.14323597 12.02307445  5.19625181]\n",
      "  [ 2.14323597 12.02307445  5.19625181]]]\n"
     ]
    },
    {
     "ename": "ValueError",
     "evalue": "operands could not be broadcast together with shapes (2,4) (4,1,6) ",
     "output_type": "error",
     "traceback": [
      "\u001b[0;31m---------------------------------------------------------------------------\u001b[0m",
      "\u001b[0;31mValueError\u001b[0m                                Traceback (most recent call last)",
      "\u001b[0;32m<ipython-input-29-1fe63084d09d>\u001b[0m in \u001b[0;36m<module>\u001b[0;34m\u001b[0m\n\u001b[1;32m     17\u001b[0m \u001b[0mdemo_b\u001b[0m \u001b[0;34m=\u001b[0m \u001b[0mnp\u001b[0m\u001b[0;34m.\u001b[0m\u001b[0mrandom\u001b[0m\u001b[0;34m.\u001b[0m\u001b[0mrandom\u001b[0m\u001b[0;34m(\u001b[0m\u001b[0;34m(\u001b[0m\u001b[0;36m4\u001b[0m\u001b[0;34m,\u001b[0m\u001b[0;36m1\u001b[0m\u001b[0;34m,\u001b[0m\u001b[0;36m6\u001b[0m\u001b[0;34m)\u001b[0m\u001b[0;34m)\u001b[0m\u001b[0;34m\u001b[0m\u001b[0;34m\u001b[0m\u001b[0m\n\u001b[1;32m     18\u001b[0m \u001b[0;34m\u001b[0m\u001b[0m\n\u001b[0;32m---> 19\u001b[0;31m \u001b[0mresulta\u001b[0m \u001b[0;34m=\u001b[0m \u001b[0mdemo_a\u001b[0m \u001b[0;34m+\u001b[0m \u001b[0mdemo_b\u001b[0m\u001b[0;34m\u001b[0m\u001b[0;34m\u001b[0m\u001b[0m\n\u001b[0m",
      "\u001b[0;31mValueError\u001b[0m: operands could not be broadcast together with shapes (2,4) (4,1,6) "
     ]
    }
   ],
   "source": [
    "demo_e = np.ones((2, 3))\n",
    "demo_f = np.random.random((5, 1, 3))\n",
    "print(f\"demo_e shape: {demo_e.shape}\")\n",
    "print(f\"demo_f shape: {demo_f.shape}\")\n",
    "\n",
    "print(demo_e)\n",
    "print(demo_f)\n",
    "\n",
    "result = demo_e + demo_f\n",
    "print(result)\n",
    "result2 = demo_e * demo_f\n",
    "print(result2)\n",
    "result3 = demo_e / demo_f\n",
    "print(result3)\n",
    "\n",
    "demo_a = np.ones((2,4))\n",
    "demo_b = np.random.random((4,1,6))\n",
    "\n",
    "resulta = demo_a + demo_b"
   ]
  },
  {
   "cell_type": "markdown",
   "metadata": {},
   "source": [
    "## Task 6a: Math/Stats Aggregate Functions\n",
    "\n",
    "In the practice notebook, perform the following.\n",
    "\n",
    "+ Create three to five arrays\n",
    "+ Experiment with each of the aggregation functions: `sum`, `minimum`, `maximum`, `cumsum`, `mean`, `np.corrcoef`, `np.std`, `np.var`. \n",
    "+ For each function call, add a comment line above it that describes what it does.  \n",
    "```\n"
   ]
  },
  {
   "cell_type": "markdown",
   "metadata": {},
   "source": [
    "demo_1 = np.ones((2,3))\n",
    "demo_2 = np.ones((4, 4))\n",
    "demo_3 = np.random.random((2, 1, 5))\n",
    "\n",
    "np.sum(demo_1)\n",
    "np.minimum((demo_2), (demo_3))\n",
    "np.maximum((demo_3))\n",
    "np.cumsum((demo_1), (demo_3))\n",
    "np.mean(demo_2)\n",
    "np.stdv(demo_3)\n",
    "np.var(demo_3)\n",
    "\n",
    "\n",
    "\n"
   ]
  },
  {
   "cell_type": "markdown",
   "metadata": {},
   "source": [
    "## Task 6b: Logical Aggregate Functions\n",
    "\n",
    "In the practice notebook, perform the following.\n",
    "\n",
    "+ Create two arrays containing boolean values.\n",
    "+ Experiment with each of the aggregation functions: `logical_and`, `logical_or`, `logical_not`. \n",
    "+ For each function call, add a comment line above it that describes what it does.  \n",
    "```"
   ]
  },
  {
   "cell_type": "code",
   "execution_count": 36,
   "metadata": {},
   "outputs": [
    {
     "data": {
      "text/plain": [
       "array([False,  True,  True, False])"
      ]
     },
     "execution_count": 36,
     "metadata": {},
     "output_type": "execute_result"
    }
   ],
   "source": [
    "a = [True, True, False, False]\n",
    "b = [False, False, True, True]\n",
    "\n",
    "np.logical_or(a, b)\n",
    "np.logical_and(a,b)\n",
    "np.logical_not([True, False, 0, 1])\n",
    "\n",
    "\n",
    "\n"
   ]
  },
  {
   "cell_type": "code",
   "execution_count": 32,
   "metadata": {},
   "outputs": [
    {
     "ename": "TypeError",
     "evalue": "return arrays must be of ArrayType",
     "output_type": "error",
     "traceback": [
      "\u001b[0;31m---------------------------------------------------------------------------\u001b[0m",
      "\u001b[0;31mTypeError\u001b[0m                                 Traceback (most recent call last)",
      "\u001b[0;32m<ipython-input-32-84ed07e7db11>\u001b[0m in \u001b[0;36m<module>\u001b[0;34m\u001b[0m\n\u001b[1;32m      5\u001b[0m \u001b[0;34m\u001b[0m\u001b[0m\n\u001b[1;32m      6\u001b[0m \u001b[0mnp\u001b[0m\u001b[0;34m.\u001b[0m\u001b[0mlogical_and\u001b[0m\u001b[0;34m(\u001b[0m\u001b[0ma\u001b[0m\u001b[0;34m,\u001b[0m\u001b[0mb\u001b[0m\u001b[0;34m)\u001b[0m\u001b[0;34m\u001b[0m\u001b[0;34m\u001b[0m\u001b[0m\n\u001b[0;32m----> 7\u001b[0;31m \u001b[0mnp\u001b[0m\u001b[0;34m.\u001b[0m\u001b[0mlogical_not\u001b[0m\u001b[0;34m(\u001b[0m\u001b[0ma\u001b[0m\u001b[0;34m,\u001b[0m\u001b[0mb\u001b[0m\u001b[0;34m)\u001b[0m\u001b[0;34m\u001b[0m\u001b[0;34m\u001b[0m\u001b[0m\n\u001b[0m\u001b[1;32m      8\u001b[0m \u001b[0;34m\u001b[0m\u001b[0m\n",
      "\u001b[0;31mTypeError\u001b[0m: return arrays must be of ArrayType"
     ]
    }
   ],
   "source": [
    "\n",
    "\n"
   ]
  }
 ],
 "metadata": {
  "kernelspec": {
   "display_name": "Python 3",
   "language": "python",
   "name": "python3"
  },
  "language_info": {
   "codemirror_mode": {
    "name": "ipython",
    "version": 3
   },
   "file_extension": ".py",
   "mimetype": "text/x-python",
   "name": "python",
   "nbconvert_exporter": "python",
   "pygments_lexer": "ipython3",
   "version": "3.8.5"
  }
 },
 "nbformat": 4,
 "nbformat_minor": 4
}
